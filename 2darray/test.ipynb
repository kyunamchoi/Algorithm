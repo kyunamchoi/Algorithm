{
 "cells": [
  {
   "cell_type": "code",
   "execution_count": 30,
   "metadata": {},
   "outputs": [
    {
     "name": "stdout",
     "output_type": "stream",
     "text": [
      "260\n"
     ]
    }
   ],
   "source": []
  },
  {
   "cell_type": "code",
   "execution_count": null,
   "metadata": {},
   "outputs": [],
   "source": []
  },
  {
   "cell_type": "code",
   "execution_count": 5,
   "metadata": {},
   "outputs": [
    {
     "name": "stdout",
     "output_type": "stream",
     "text": [
      "0\n",
      "0\n",
      "--\n",
      "1\n"
     ]
    }
   ],
   "source": [
    "# 2108\n",
    "# import sys\n",
    "# input = sys.stdin.readline().rstrip\n",
    "import numpy as np\n",
    "n = int(input())\n",
    "arr = list()\n",
    "for _ in range(n):\n",
    "    arr.append(int(input()))\n",
    "\n",
    "print(round(np.mean(arr)))\n",
    "print(int(np.median(arr)))\n",
    "if len(arr) != 1:\n",
    "    print(\"--\")\n",
    "else:\n",
    "    print(arr[0])\n",
    "print(max(arr)-min(arr))"
   ]
  },
  {
   "cell_type": "code",
   "execution_count": 23,
   "metadata": {},
   "outputs": [
    {
     "name": "stdout",
     "output_type": "stream",
     "text": [
      "-2\n"
     ]
    }
   ],
   "source": [
    "arr = list([-1,-2,-3,-1,-2])\n",
    "import numpy as np\n",
    "import math\n",
    "\n",
    "if len(arr)==1:\n",
    "    print(arr[0])\n",
    "else:\n",
    "    print(sorted(arr)[1])"
   ]
  },
  {
   "cell_type": "code",
   "execution_count": 13,
   "metadata": {},
   "outputs": [
    {
     "name": "stdout",
     "output_type": "stream",
     "text": [
      "-3\n",
      "-3\n",
      "-3\n",
      "-3\n"
     ]
    }
   ],
   "source": [
    "arr = list([1,3,8,-2,2])\n",
    "length = max(arr)-min(arr)+1\n",
    "count = [0]*length\n",
    "for i in arr:\n",
    "    count[i-min(arr)] += 1\n",
    "\n",
    "num = 0\n",
    "index = 0\n",
    "if count.count(max(count)) != 1:\n",
    "    for i in count:\n",
    "        if (i == max(count))&(num != 2):\n",
    "            num += 1\n",
    "        if (i == max(count))&(num == 2):\n",
    "            print(min(arr) - count[index])\n",
    "        index += 1\n",
    "        \n",
    "else:\n",
    "    print(min(arr)-count.index(max(count)))"
   ]
  },
  {
   "cell_type": "code",
   "execution_count": 21,
   "metadata": {},
   "outputs": [
    {
     "data": {
      "text/plain": [
       "0"
      ]
     },
     "execution_count": 21,
     "metadata": {},
     "output_type": "execute_result"
    }
   ],
   "source": [
    "max(arr)"
   ]
  },
  {
   "cell_type": "code",
   "execution_count": 22,
   "metadata": {},
   "outputs": [
    {
     "data": {
      "text/plain": [
       "-1"
      ]
     },
     "execution_count": 22,
     "metadata": {},
     "output_type": "execute_result"
    }
   ],
   "source": [
    "min(arr)"
   ]
  },
  {
   "cell_type": "code",
   "execution_count": null,
   "metadata": {},
   "outputs": [],
   "source": []
  }
 ],
 "metadata": {
  "kernelspec": {
   "display_name": "Python 3",
   "language": "python",
   "name": "python3"
  },
  "language_info": {
   "codemirror_mode": {
    "name": "ipython",
    "version": 3
   },
   "file_extension": ".py",
   "mimetype": "text/x-python",
   "name": "python",
   "nbconvert_exporter": "python",
   "pygments_lexer": "ipython3",
   "version": "3.9.13"
  },
  "orig_nbformat": 4,
  "vscode": {
   "interpreter": {
    "hash": "7812ea015bdcee6f23a998adcdd2ef97c151c0c241b7b7070987d9313e41299d"
   }
  }
 },
 "nbformat": 4,
 "nbformat_minor": 2
}
